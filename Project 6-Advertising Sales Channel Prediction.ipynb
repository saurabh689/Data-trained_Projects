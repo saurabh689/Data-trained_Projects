{
 "cells": [
  {
   "cell_type": "markdown",
   "metadata": {},
   "source": [
    "## Aim: Advertising Sales Channel Prediction"
   ]
  },
  {
   "cell_type": "markdown",
   "metadata": {},
   "source": [
    "### Problem Statement:"
   ]
  },
  {
   "cell_type": "markdown",
   "metadata": {},
   "source": [
    "When a company enters a market, the distribution strategy and channel it uses are keys to its success in the market, as well as market know-how and customer knowledge and understanding. Because an effective distribution strategy under efficient supply-chain management opens doors for attaining competitive advantage and strong brand equity in the market, it is a component of the marketing mix that cannot be ignored . \n",
    "\n",
    "The distribution strategy and the channel design have to be right the first time. The case study of Sales channel includes the detailed study of TV, radio and newspaper channel. The predict the total sales generated from all the sales channel. "
   ]
  },
  {
   "cell_type": "markdown",
   "metadata": {},
   "source": [
    "###### Importing Required library"
   ]
  },
  {
   "cell_type": "code",
   "execution_count": 2,
   "metadata": {},
   "outputs": [],
   "source": [
    "import pandas as pd \n",
    "import numpy as np \n",
    "import matplotlib.pyplot as plt \n",
    "import seaborn as sns\n",
    "\n",
    "import warnings\n",
    "warnings.filterwarnings('ignore')"
   ]
  },
  {
   "cell_type": "code",
   "execution_count": 3,
   "metadata": {},
   "outputs": [
    {
     "data": {
      "text/html": [
       "<div>\n",
       "<style scoped>\n",
       "    .dataframe tbody tr th:only-of-type {\n",
       "        vertical-align: middle;\n",
       "    }\n",
       "\n",
       "    .dataframe tbody tr th {\n",
       "        vertical-align: top;\n",
       "    }\n",
       "\n",
       "    .dataframe thead th {\n",
       "        text-align: right;\n",
       "    }\n",
       "</style>\n",
       "<table border=\"1\" class=\"dataframe\">\n",
       "  <thead>\n",
       "    <tr style=\"text-align: right;\">\n",
       "      <th></th>\n",
       "      <th>Unnamed: 0</th>\n",
       "      <th>TV</th>\n",
       "      <th>radio</th>\n",
       "      <th>newspaper</th>\n",
       "      <th>sales</th>\n",
       "    </tr>\n",
       "  </thead>\n",
       "  <tbody>\n",
       "    <tr>\n",
       "      <th>0</th>\n",
       "      <td>1</td>\n",
       "      <td>230.1</td>\n",
       "      <td>37.8</td>\n",
       "      <td>69.2</td>\n",
       "      <td>22.1</td>\n",
       "    </tr>\n",
       "    <tr>\n",
       "      <th>1</th>\n",
       "      <td>2</td>\n",
       "      <td>44.5</td>\n",
       "      <td>39.3</td>\n",
       "      <td>45.1</td>\n",
       "      <td>10.4</td>\n",
       "    </tr>\n",
       "    <tr>\n",
       "      <th>2</th>\n",
       "      <td>3</td>\n",
       "      <td>17.2</td>\n",
       "      <td>45.9</td>\n",
       "      <td>69.3</td>\n",
       "      <td>9.3</td>\n",
       "    </tr>\n",
       "    <tr>\n",
       "      <th>3</th>\n",
       "      <td>4</td>\n",
       "      <td>151.5</td>\n",
       "      <td>41.3</td>\n",
       "      <td>58.5</td>\n",
       "      <td>18.5</td>\n",
       "    </tr>\n",
       "    <tr>\n",
       "      <th>4</th>\n",
       "      <td>5</td>\n",
       "      <td>180.8</td>\n",
       "      <td>10.8</td>\n",
       "      <td>58.4</td>\n",
       "      <td>12.9</td>\n",
       "    </tr>\n",
       "    <tr>\n",
       "      <th>...</th>\n",
       "      <td>...</td>\n",
       "      <td>...</td>\n",
       "      <td>...</td>\n",
       "      <td>...</td>\n",
       "      <td>...</td>\n",
       "    </tr>\n",
       "    <tr>\n",
       "      <th>195</th>\n",
       "      <td>196</td>\n",
       "      <td>38.2</td>\n",
       "      <td>3.7</td>\n",
       "      <td>13.8</td>\n",
       "      <td>7.6</td>\n",
       "    </tr>\n",
       "    <tr>\n",
       "      <th>196</th>\n",
       "      <td>197</td>\n",
       "      <td>94.2</td>\n",
       "      <td>4.9</td>\n",
       "      <td>8.1</td>\n",
       "      <td>9.7</td>\n",
       "    </tr>\n",
       "    <tr>\n",
       "      <th>197</th>\n",
       "      <td>198</td>\n",
       "      <td>177.0</td>\n",
       "      <td>9.3</td>\n",
       "      <td>6.4</td>\n",
       "      <td>12.8</td>\n",
       "    </tr>\n",
       "    <tr>\n",
       "      <th>198</th>\n",
       "      <td>199</td>\n",
       "      <td>283.6</td>\n",
       "      <td>42.0</td>\n",
       "      <td>66.2</td>\n",
       "      <td>25.5</td>\n",
       "    </tr>\n",
       "    <tr>\n",
       "      <th>199</th>\n",
       "      <td>200</td>\n",
       "      <td>232.1</td>\n",
       "      <td>8.6</td>\n",
       "      <td>8.7</td>\n",
       "      <td>13.4</td>\n",
       "    </tr>\n",
       "  </tbody>\n",
       "</table>\n",
       "<p>200 rows × 5 columns</p>\n",
       "</div>"
      ],
      "text/plain": [
       "     Unnamed: 0     TV  radio  newspaper  sales\n",
       "0             1  230.1   37.8       69.2   22.1\n",
       "1             2   44.5   39.3       45.1   10.4\n",
       "2             3   17.2   45.9       69.3    9.3\n",
       "3             4  151.5   41.3       58.5   18.5\n",
       "4             5  180.8   10.8       58.4   12.9\n",
       "..          ...    ...    ...        ...    ...\n",
       "195         196   38.2    3.7       13.8    7.6\n",
       "196         197   94.2    4.9        8.1    9.7\n",
       "197         198  177.0    9.3        6.4   12.8\n",
       "198         199  283.6   42.0       66.2   25.5\n",
       "199         200  232.1    8.6        8.7   13.4\n",
       "\n",
       "[200 rows x 5 columns]"
      ]
     },
     "execution_count": 3,
     "metadata": {},
     "output_type": "execute_result"
    }
   ],
   "source": [
    "data= pd.read_csv('https://raw.githubusercontent.com/dsrscientist/DSData/master/Advertising.csv')\n",
    "data"
   ]
  },
  {
   "cell_type": "markdown",
   "metadata": {},
   "source": [
    "Data Description:\n",
    "\n",
    "Data is having 200 Rows and 5 Columns.\n",
    "\n",
    "All the data columns are contineus in nature.\n",
    "\n",
    "We have first column as Unnamed:0, which is serial number, we can drop this data later.\n",
    "\n",
    "Our Feature data columns are [TV,\tradio,\tnewspaper] and Target column is [sales]"
   ]
  },
  {
   "cell_type": "markdown",
   "metadata": {},
   "source": [
    "###### Checking Null Values in the data:"
   ]
  },
  {
   "cell_type": "code",
   "execution_count": 4,
   "metadata": {},
   "outputs": [
    {
     "data": {
      "text/plain": [
       "Unnamed: 0    0\n",
       "TV            0\n",
       "radio         0\n",
       "newspaper     0\n",
       "sales         0\n",
       "dtype: int64"
      ]
     },
     "execution_count": 4,
     "metadata": {},
     "output_type": "execute_result"
    }
   ],
   "source": [
    "data.isnull().sum()"
   ]
  },
  {
   "cell_type": "markdown",
   "metadata": {},
   "source": [
    "Data is not having any null value, we can proceed for further analysis."
   ]
  },
  {
   "cell_type": "markdown",
   "metadata": {},
   "source": [
    "##### Descriptive Statistics:"
   ]
  },
  {
   "cell_type": "code",
   "execution_count": 5,
   "metadata": {},
   "outputs": [
    {
     "data": {
      "text/html": [
       "<div>\n",
       "<style scoped>\n",
       "    .dataframe tbody tr th:only-of-type {\n",
       "        vertical-align: middle;\n",
       "    }\n",
       "\n",
       "    .dataframe tbody tr th {\n",
       "        vertical-align: top;\n",
       "    }\n",
       "\n",
       "    .dataframe thead th {\n",
       "        text-align: right;\n",
       "    }\n",
       "</style>\n",
       "<table border=\"1\" class=\"dataframe\">\n",
       "  <thead>\n",
       "    <tr style=\"text-align: right;\">\n",
       "      <th></th>\n",
       "      <th>Unnamed: 0</th>\n",
       "      <th>TV</th>\n",
       "      <th>radio</th>\n",
       "      <th>newspaper</th>\n",
       "      <th>sales</th>\n",
       "    </tr>\n",
       "  </thead>\n",
       "  <tbody>\n",
       "    <tr>\n",
       "      <th>count</th>\n",
       "      <td>200.000000</td>\n",
       "      <td>200.000000</td>\n",
       "      <td>200.000000</td>\n",
       "      <td>200.000000</td>\n",
       "      <td>200.000000</td>\n",
       "    </tr>\n",
       "    <tr>\n",
       "      <th>mean</th>\n",
       "      <td>100.500000</td>\n",
       "      <td>147.042500</td>\n",
       "      <td>23.264000</td>\n",
       "      <td>30.554000</td>\n",
       "      <td>14.022500</td>\n",
       "    </tr>\n",
       "    <tr>\n",
       "      <th>std</th>\n",
       "      <td>57.879185</td>\n",
       "      <td>85.854236</td>\n",
       "      <td>14.846809</td>\n",
       "      <td>21.778621</td>\n",
       "      <td>5.217457</td>\n",
       "    </tr>\n",
       "    <tr>\n",
       "      <th>min</th>\n",
       "      <td>1.000000</td>\n",
       "      <td>0.700000</td>\n",
       "      <td>0.000000</td>\n",
       "      <td>0.300000</td>\n",
       "      <td>1.600000</td>\n",
       "    </tr>\n",
       "    <tr>\n",
       "      <th>25%</th>\n",
       "      <td>50.750000</td>\n",
       "      <td>74.375000</td>\n",
       "      <td>9.975000</td>\n",
       "      <td>12.750000</td>\n",
       "      <td>10.375000</td>\n",
       "    </tr>\n",
       "    <tr>\n",
       "      <th>50%</th>\n",
       "      <td>100.500000</td>\n",
       "      <td>149.750000</td>\n",
       "      <td>22.900000</td>\n",
       "      <td>25.750000</td>\n",
       "      <td>12.900000</td>\n",
       "    </tr>\n",
       "    <tr>\n",
       "      <th>75%</th>\n",
       "      <td>150.250000</td>\n",
       "      <td>218.825000</td>\n",
       "      <td>36.525000</td>\n",
       "      <td>45.100000</td>\n",
       "      <td>17.400000</td>\n",
       "    </tr>\n",
       "    <tr>\n",
       "      <th>max</th>\n",
       "      <td>200.000000</td>\n",
       "      <td>296.400000</td>\n",
       "      <td>49.600000</td>\n",
       "      <td>114.000000</td>\n",
       "      <td>27.000000</td>\n",
       "    </tr>\n",
       "  </tbody>\n",
       "</table>\n",
       "</div>"
      ],
      "text/plain": [
       "       Unnamed: 0          TV       radio   newspaper       sales\n",
       "count  200.000000  200.000000  200.000000  200.000000  200.000000\n",
       "mean   100.500000  147.042500   23.264000   30.554000   14.022500\n",
       "std     57.879185   85.854236   14.846809   21.778621    5.217457\n",
       "min      1.000000    0.700000    0.000000    0.300000    1.600000\n",
       "25%     50.750000   74.375000    9.975000   12.750000   10.375000\n",
       "50%    100.500000  149.750000   22.900000   25.750000   12.900000\n",
       "75%    150.250000  218.825000   36.525000   45.100000   17.400000\n",
       "max    200.000000  296.400000   49.600000  114.000000   27.000000"
      ]
     },
     "execution_count": 5,
     "metadata": {},
     "output_type": "execute_result"
    }
   ],
   "source": [
    "data.describe()"
   ]
  },
  {
   "cell_type": "markdown",
   "metadata": {},
   "source": [
    "##### Descriptive Statistics Summary:"
   ]
  },
  {
   "cell_type": "markdown",
   "metadata": {},
   "source": [
    "TV\n",
    "\n",
    "min: 0.700000\n",
    "\n",
    "max: 296.400000\n",
    "\n",
    "Mean:147.042500\n",
    "\n",
    "Std: 85.854236\n",
    "\n",
    "radio\n",
    "\n",
    "min: 0.000000\n",
    "\n",
    "max: 49.600000\n",
    "\n",
    "Mean: 23.264000\n",
    "\n",
    "Std: 14.846809\n",
    "    \n",
    "newspaper\n",
    "\n",
    "min: 0.300000\n",
    "\n",
    "max:114.000000\n",
    "\n",
    "Mean: 30.554000\n",
    "\n",
    "Std: 21.778621\n",
    "    \n",
    "newspaper\n",
    "\n",
    "min: 1.600000\n",
    "\n",
    "max:27.000000\n",
    "\n",
    "Mean:14.022500\n",
    "\n",
    "Std: 5.217457"
   ]
  },
  {
   "cell_type": "markdown",
   "metadata": {},
   "source": [
    "##### Data preprocessing"
   ]
  },
  {
   "cell_type": "code",
   "execution_count": 6,
   "metadata": {},
   "outputs": [
    {
     "data": {
      "text/html": [
       "<div>\n",
       "<style scoped>\n",
       "    .dataframe tbody tr th:only-of-type {\n",
       "        vertical-align: middle;\n",
       "    }\n",
       "\n",
       "    .dataframe tbody tr th {\n",
       "        vertical-align: top;\n",
       "    }\n",
       "\n",
       "    .dataframe thead th {\n",
       "        text-align: right;\n",
       "    }\n",
       "</style>\n",
       "<table border=\"1\" class=\"dataframe\">\n",
       "  <thead>\n",
       "    <tr style=\"text-align: right;\">\n",
       "      <th></th>\n",
       "      <th>Unnamed: 0</th>\n",
       "      <th>TV</th>\n",
       "      <th>radio</th>\n",
       "      <th>newspaper</th>\n",
       "      <th>sales</th>\n",
       "    </tr>\n",
       "  </thead>\n",
       "  <tbody>\n",
       "    <tr>\n",
       "      <th>0</th>\n",
       "      <td>1</td>\n",
       "      <td>230.1</td>\n",
       "      <td>37.8</td>\n",
       "      <td>69.2</td>\n",
       "      <td>22.1</td>\n",
       "    </tr>\n",
       "    <tr>\n",
       "      <th>1</th>\n",
       "      <td>2</td>\n",
       "      <td>44.5</td>\n",
       "      <td>39.3</td>\n",
       "      <td>45.1</td>\n",
       "      <td>10.4</td>\n",
       "    </tr>\n",
       "    <tr>\n",
       "      <th>2</th>\n",
       "      <td>3</td>\n",
       "      <td>17.2</td>\n",
       "      <td>45.9</td>\n",
       "      <td>69.3</td>\n",
       "      <td>9.3</td>\n",
       "    </tr>\n",
       "  </tbody>\n",
       "</table>\n",
       "</div>"
      ],
      "text/plain": [
       "   Unnamed: 0     TV  radio  newspaper  sales\n",
       "0           1  230.1   37.8       69.2   22.1\n",
       "1           2   44.5   39.3       45.1   10.4\n",
       "2           3   17.2   45.9       69.3    9.3"
      ]
     },
     "execution_count": 6,
     "metadata": {},
     "output_type": "execute_result"
    }
   ],
   "source": [
    "data.head(3)"
   ]
  },
  {
   "cell_type": "markdown",
   "metadata": {},
   "source": [
    "First we will standardize our data columns name."
   ]
  },
  {
   "cell_type": "code",
   "execution_count": 7,
   "metadata": {},
   "outputs": [],
   "source": [
    "data.rename(columns={'Unnamed: 0':'Serial', 'TV':'TV', 'radio':'Radio', 'newspaper':'Newspaper', 'sales':'Sales'},inplace=True)"
   ]
  },
  {
   "cell_type": "code",
   "execution_count": 8,
   "metadata": {},
   "outputs": [
    {
     "data": {
      "text/html": [
       "<div>\n",
       "<style scoped>\n",
       "    .dataframe tbody tr th:only-of-type {\n",
       "        vertical-align: middle;\n",
       "    }\n",
       "\n",
       "    .dataframe tbody tr th {\n",
       "        vertical-align: top;\n",
       "    }\n",
       "\n",
       "    .dataframe thead th {\n",
       "        text-align: right;\n",
       "    }\n",
       "</style>\n",
       "<table border=\"1\" class=\"dataframe\">\n",
       "  <thead>\n",
       "    <tr style=\"text-align: right;\">\n",
       "      <th></th>\n",
       "      <th>Serial</th>\n",
       "      <th>TV</th>\n",
       "      <th>Radio</th>\n",
       "      <th>Newspaper</th>\n",
       "      <th>Sales</th>\n",
       "    </tr>\n",
       "  </thead>\n",
       "  <tbody>\n",
       "    <tr>\n",
       "      <th>0</th>\n",
       "      <td>1</td>\n",
       "      <td>230.1</td>\n",
       "      <td>37.8</td>\n",
       "      <td>69.2</td>\n",
       "      <td>22.1</td>\n",
       "    </tr>\n",
       "    <tr>\n",
       "      <th>1</th>\n",
       "      <td>2</td>\n",
       "      <td>44.5</td>\n",
       "      <td>39.3</td>\n",
       "      <td>45.1</td>\n",
       "      <td>10.4</td>\n",
       "    </tr>\n",
       "    <tr>\n",
       "      <th>2</th>\n",
       "      <td>3</td>\n",
       "      <td>17.2</td>\n",
       "      <td>45.9</td>\n",
       "      <td>69.3</td>\n",
       "      <td>9.3</td>\n",
       "    </tr>\n",
       "  </tbody>\n",
       "</table>\n",
       "</div>"
      ],
      "text/plain": [
       "   Serial     TV  Radio  Newspaper  Sales\n",
       "0       1  230.1   37.8       69.2   22.1\n",
       "1       2   44.5   39.3       45.1   10.4\n",
       "2       3   17.2   45.9       69.3    9.3"
      ]
     },
     "execution_count": 8,
     "metadata": {},
     "output_type": "execute_result"
    }
   ],
   "source": [
    "data.head(3)"
   ]
  },
  {
   "cell_type": "code",
   "execution_count": 9,
   "metadata": {},
   "outputs": [
    {
     "name": "stdout",
     "output_type": "stream",
     "text": [
      "<class 'pandas.core.frame.DataFrame'>\n",
      "RangeIndex: 200 entries, 0 to 199\n",
      "Data columns (total 5 columns):\n",
      " #   Column     Non-Null Count  Dtype  \n",
      "---  ------     --------------  -----  \n",
      " 0   Serial     200 non-null    int64  \n",
      " 1   TV         200 non-null    float64\n",
      " 2   Radio      200 non-null    float64\n",
      " 3   Newspaper  200 non-null    float64\n",
      " 4   Sales      200 non-null    float64\n",
      "dtypes: float64(4), int64(1)\n",
      "memory usage: 7.9 KB\n"
     ]
    }
   ],
   "source": [
    "data.info()"
   ]
  },
  {
   "cell_type": "markdown",
   "metadata": {},
   "source": [
    "Here we can see data having one interger column and all other columns are float values.\n",
    "\n",
    "Here Serial not having any impact on sales data, so we can drop this."
   ]
  },
  {
   "cell_type": "code",
   "execution_count": 10,
   "metadata": {},
   "outputs": [],
   "source": [
    "data.drop(['Serial'], axis=1, inplace = True )"
   ]
  },
  {
   "cell_type": "code",
   "execution_count": 11,
   "metadata": {},
   "outputs": [
    {
     "data": {
      "text/html": [
       "<div>\n",
       "<style scoped>\n",
       "    .dataframe tbody tr th:only-of-type {\n",
       "        vertical-align: middle;\n",
       "    }\n",
       "\n",
       "    .dataframe tbody tr th {\n",
       "        vertical-align: top;\n",
       "    }\n",
       "\n",
       "    .dataframe thead th {\n",
       "        text-align: right;\n",
       "    }\n",
       "</style>\n",
       "<table border=\"1\" class=\"dataframe\">\n",
       "  <thead>\n",
       "    <tr style=\"text-align: right;\">\n",
       "      <th></th>\n",
       "      <th>TV</th>\n",
       "      <th>Radio</th>\n",
       "      <th>Newspaper</th>\n",
       "      <th>Sales</th>\n",
       "    </tr>\n",
       "  </thead>\n",
       "  <tbody>\n",
       "    <tr>\n",
       "      <th>0</th>\n",
       "      <td>230.1</td>\n",
       "      <td>37.8</td>\n",
       "      <td>69.2</td>\n",
       "      <td>22.1</td>\n",
       "    </tr>\n",
       "    <tr>\n",
       "      <th>1</th>\n",
       "      <td>44.5</td>\n",
       "      <td>39.3</td>\n",
       "      <td>45.1</td>\n",
       "      <td>10.4</td>\n",
       "    </tr>\n",
       "    <tr>\n",
       "      <th>2</th>\n",
       "      <td>17.2</td>\n",
       "      <td>45.9</td>\n",
       "      <td>69.3</td>\n",
       "      <td>9.3</td>\n",
       "    </tr>\n",
       "    <tr>\n",
       "      <th>3</th>\n",
       "      <td>151.5</td>\n",
       "      <td>41.3</td>\n",
       "      <td>58.5</td>\n",
       "      <td>18.5</td>\n",
       "    </tr>\n",
       "    <tr>\n",
       "      <th>4</th>\n",
       "      <td>180.8</td>\n",
       "      <td>10.8</td>\n",
       "      <td>58.4</td>\n",
       "      <td>12.9</td>\n",
       "    </tr>\n",
       "    <tr>\n",
       "      <th>...</th>\n",
       "      <td>...</td>\n",
       "      <td>...</td>\n",
       "      <td>...</td>\n",
       "      <td>...</td>\n",
       "    </tr>\n",
       "    <tr>\n",
       "      <th>195</th>\n",
       "      <td>38.2</td>\n",
       "      <td>3.7</td>\n",
       "      <td>13.8</td>\n",
       "      <td>7.6</td>\n",
       "    </tr>\n",
       "    <tr>\n",
       "      <th>196</th>\n",
       "      <td>94.2</td>\n",
       "      <td>4.9</td>\n",
       "      <td>8.1</td>\n",
       "      <td>9.7</td>\n",
       "    </tr>\n",
       "    <tr>\n",
       "      <th>197</th>\n",
       "      <td>177.0</td>\n",
       "      <td>9.3</td>\n",
       "      <td>6.4</td>\n",
       "      <td>12.8</td>\n",
       "    </tr>\n",
       "    <tr>\n",
       "      <th>198</th>\n",
       "      <td>283.6</td>\n",
       "      <td>42.0</td>\n",
       "      <td>66.2</td>\n",
       "      <td>25.5</td>\n",
       "    </tr>\n",
       "    <tr>\n",
       "      <th>199</th>\n",
       "      <td>232.1</td>\n",
       "      <td>8.6</td>\n",
       "      <td>8.7</td>\n",
       "      <td>13.4</td>\n",
       "    </tr>\n",
       "  </tbody>\n",
       "</table>\n",
       "<p>200 rows × 4 columns</p>\n",
       "</div>"
      ],
      "text/plain": [
       "        TV  Radio  Newspaper  Sales\n",
       "0    230.1   37.8       69.2   22.1\n",
       "1     44.5   39.3       45.1   10.4\n",
       "2     17.2   45.9       69.3    9.3\n",
       "3    151.5   41.3       58.5   18.5\n",
       "4    180.8   10.8       58.4   12.9\n",
       "..     ...    ...        ...    ...\n",
       "195   38.2    3.7       13.8    7.6\n",
       "196   94.2    4.9        8.1    9.7\n",
       "197  177.0    9.3        6.4   12.8\n",
       "198  283.6   42.0       66.2   25.5\n",
       "199  232.1    8.6        8.7   13.4\n",
       "\n",
       "[200 rows x 4 columns]"
      ]
     },
     "execution_count": 11,
     "metadata": {},
     "output_type": "execute_result"
    }
   ],
   "source": [
    "data"
   ]
  },
  {
   "cell_type": "markdown",
   "metadata": {},
   "source": [
    "# EDA"
   ]
  },
  {
   "cell_type": "markdown",
   "metadata": {},
   "source": [
    "##### Univariate analysis of Data."
   ]
  },
  {
   "cell_type": "code",
   "execution_count": 12,
   "metadata": {},
   "outputs": [
    {
     "data": {
      "text/html": [
       "<div>\n",
       "<style scoped>\n",
       "    .dataframe tbody tr th:only-of-type {\n",
       "        vertical-align: middle;\n",
       "    }\n",
       "\n",
       "    .dataframe tbody tr th {\n",
       "        vertical-align: top;\n",
       "    }\n",
       "\n",
       "    .dataframe thead th {\n",
       "        text-align: right;\n",
       "    }\n",
       "</style>\n",
       "<table border=\"1\" class=\"dataframe\">\n",
       "  <thead>\n",
       "    <tr style=\"text-align: right;\">\n",
       "      <th></th>\n",
       "      <th>TV</th>\n",
       "      <th>Radio</th>\n",
       "      <th>Newspaper</th>\n",
       "      <th>Sales</th>\n",
       "    </tr>\n",
       "  </thead>\n",
       "  <tbody>\n",
       "    <tr>\n",
       "      <th>0</th>\n",
       "      <td>230.1</td>\n",
       "      <td>37.8</td>\n",
       "      <td>69.2</td>\n",
       "      <td>22.1</td>\n",
       "    </tr>\n",
       "  </tbody>\n",
       "</table>\n",
       "</div>"
      ],
      "text/plain": [
       "      TV  Radio  Newspaper  Sales\n",
       "0  230.1   37.8       69.2   22.1"
      ]
     },
     "execution_count": 12,
     "metadata": {},
     "output_type": "execute_result"
    }
   ],
   "source": [
    "data.head(1)"
   ]
  },
  {
   "cell_type": "code",
   "execution_count": 13,
   "metadata": {},
   "outputs": [
    {
     "data": {
      "text/plain": [
       "<AxesSubplot:xlabel='TV', ylabel='Density'>"
      ]
     },
     "execution_count": 13,
     "metadata": {},
     "output_type": "execute_result"
    },
    {
     "data": {
      "image/png": "[encoded data removed]",
      "text/plain": [
       "<Figure size 432x288 with 1 Axes>"
      ]
     },
     "metadata": {
      "needs_background": "light"
     },
     "output_type": "display_data"
    }
   ],
   "source": [
    "sns.distplot(data['TV'])"
   ]
  },
  {
   "cell_type": "markdown",
   "metadata": {},
   "source": [
    "Data is equaly distributed between 0 to nearly 300. It is having almost equal density."
   ]
  },
  {
   "cell_type": "code",
   "execution_count": 14,
   "metadata": {},
   "outputs": [
    {
     "data": {
      "text/plain": [
       "<AxesSubplot:xlabel='Radio', ylabel='Density'>"
      ]
     },
     "execution_count": 14,
     "metadata": {},
     "output_type": "execute_result"
    },
    {
     "data": {
      "image/png": "[encoded data removed]",
      "text/plain": [
       "<Figure size 432x288 with 1 Axes>"
      ]
     },
     "metadata": {
      "needs_background": "light"
     },
     "output_type": "display_data"
    }
   ],
   "source": [
    "sns.distplot( data['Radio'])"
   ]
  },
  {
   "cell_type": "markdown",
   "metadata": {},
   "source": [
    "Data is equaly distributed between 0 to nearly 50. It is having almost equal density."
   ]
  },
  {
   "cell_type": "code",
   "execution_count": 15,
   "metadata": {},
   "outputs": [
    {
     "data": {
      "text/plain": [
       "<AxesSubplot:xlabel='Newspaper', ylabel='Density'>"
      ]
     },
     "execution_count": 15,
     "metadata": {},
     "output_type": "execute_result"
    },
    {
     "data": {
      "image/png": "[encoded data removed]",
      "text/plain": [
       "<Figure size 432x288 with 1 Axes>"
      ]
     },
     "metadata": {
      "needs_background": "light"
     },
     "output_type": "display_data"
    }
   ],
   "source": [
    "sns.distplot( data['Newspaper'])"
   ]
  },
  {
   "cell_type": "markdown",
   "metadata": {},
   "source": [
    "Here we can see the density contineusly decreasing with max Newspaper channel value."
   ]
  },
  {
   "cell_type": "code",
   "execution_count": 16,
   "metadata": {},
   "outputs": [
    {
     "data": {
      "text/plain": [
       "<AxesSubplot:xlabel='Sales', ylabel='Density'>"
      ]
     },
     "execution_count": 16,
     "metadata": {},
     "output_type": "execute_result"
    },
    {
     "data": {
      "image/png": "[encoded data removed]",
      "text/plain": [
       "<Figure size 432x288 with 1 Axes>"
      ]
     },
     "metadata": {
      "needs_background": "light"
     },
     "output_type": "display_data"
    }
   ],
   "source": [
    "sns.distplot( data['Sales'])"
   ]
  },
  {
   "cell_type": "markdown",
   "metadata": {},
   "source": [
    "Here we can see max sales density is between 10 to nearly 15."
   ]
  },
  {
   "cell_type": "markdown",
   "metadata": {},
   "source": [
    "#### Bivariate Analysis"
   ]
  },
  {
   "cell_type": "code",
   "execution_count": 17,
   "metadata": {},
   "outputs": [
    {
     "data": {
      "image/png": "[encoded data removed]",
      "text/plain": [
       "<Figure size 504x504 with 1 Axes>"
      ]
     },
     "metadata": {
      "needs_background": "light"
     },
     "output_type": "display_data"
    }
   ],
   "source": [
    "plt.figure(figsize=(7,7))\n",
    "\n",
    "sns.scatterplot(x=data['TV'], y=data['Sales'])\n",
    "plt.xlabel('TV', fontsize= 15)\n",
    "plt.ylabel('Sales Generated', fontsize=15)\n",
    "plt.title('TV v/s Sales Generated',fontsize=20)\n",
    "plt.show()\n"
   ]
  },
  {
   "cell_type": "code",
   "execution_count": null,
   "metadata": {},
   "outputs": [],
   "source": []
  },
  {
   "cell_type": "markdown",
   "metadata": {},
   "source": [
    "We can see TV and Sale are having linear relationship. Both are having Direct relation. As one increse other also incleasing."
   ]
  },
  {
   "cell_type": "code",
   "execution_count": 18,
   "metadata": {},
   "outputs": [
    {
     "data": {
      "image/png": "[encoded data removed]",
      "text/plain": [
       "<Figure size 504x504 with 1 Axes>"
      ]
     },
     "metadata": {
      "needs_background": "light"
     },
     "output_type": "display_data"
    }
   ],
   "source": [
    "plt.figure(figsize=(7,7))\n",
    "sns.scatterplot(x=data['Radio'], y=data['Sales'])\n",
    "plt.xlabel('Radio', fontsize= 15)\n",
    "plt.ylabel('Sales Generated', fontsize=15)\n",
    "plt.title('Radio v/s Sales Generated',fontsize=20)\n",
    "plt.show()"
   ]
  },
  {
   "cell_type": "markdown",
   "metadata": {},
   "source": [
    "Both are having Direct relation. As one increse other also incleasing. Some poits showing its sales decreasing."
   ]
  },
  {
   "cell_type": "code",
   "execution_count": 19,
   "metadata": {},
   "outputs": [
    {
     "data": {
      "text/html": [
       "<div>\n",
       "<style scoped>\n",
       "    .dataframe tbody tr th:only-of-type {\n",
       "        vertical-align: middle;\n",
       "    }\n",
       "\n",
       "    .dataframe tbody tr th {\n",
       "        vertical-align: top;\n",
       "    }\n",
       "\n",
       "    .dataframe thead th {\n",
       "        text-align: right;\n",
       "    }\n",
       "</style>\n",
       "<table border=\"1\" class=\"dataframe\">\n",
       "  <thead>\n",
       "    <tr style=\"text-align: right;\">\n",
       "      <th></th>\n",
       "      <th>TV</th>\n",
       "      <th>Radio</th>\n",
       "      <th>Newspaper</th>\n",
       "      <th>Sales</th>\n",
       "    </tr>\n",
       "  </thead>\n",
       "  <tbody>\n",
       "    <tr>\n",
       "      <th>0</th>\n",
       "      <td>230.1</td>\n",
       "      <td>37.8</td>\n",
       "      <td>69.2</td>\n",
       "      <td>22.1</td>\n",
       "    </tr>\n",
       "    <tr>\n",
       "      <th>1</th>\n",
       "      <td>44.5</td>\n",
       "      <td>39.3</td>\n",
       "      <td>45.1</td>\n",
       "      <td>10.4</td>\n",
       "    </tr>\n",
       "    <tr>\n",
       "      <th>2</th>\n",
       "      <td>17.2</td>\n",
       "      <td>45.9</td>\n",
       "      <td>69.3</td>\n",
       "      <td>9.3</td>\n",
       "    </tr>\n",
       "    <tr>\n",
       "      <th>3</th>\n",
       "      <td>151.5</td>\n",
       "      <td>41.3</td>\n",
       "      <td>58.5</td>\n",
       "      <td>18.5</td>\n",
       "    </tr>\n",
       "    <tr>\n",
       "      <th>4</th>\n",
       "      <td>180.8</td>\n",
       "      <td>10.8</td>\n",
       "      <td>58.4</td>\n",
       "      <td>12.9</td>\n",
       "    </tr>\n",
       "  </tbody>\n",
       "</table>\n",
       "</div>"
      ],
      "text/plain": [
       "      TV  Radio  Newspaper  Sales\n",
       "0  230.1   37.8       69.2   22.1\n",
       "1   44.5   39.3       45.1   10.4\n",
       "2   17.2   45.9       69.3    9.3\n",
       "3  151.5   41.3       58.5   18.5\n",
       "4  180.8   10.8       58.4   12.9"
      ]
     },
     "execution_count": 19,
     "metadata": {},
     "output_type": "execute_result"
    }
   ],
   "source": [
    "data.head()"
   ]
  },
  {
   "cell_type": "code",
   "execution_count": 20,
   "metadata": {},
   "outputs": [
    {
     "data": {
      "image/png": "[encoded data removed]",
      "text/plain": [
       "<Figure size 504x504 with 1 Axes>"
      ]
     },
     "metadata": {
      "needs_background": "light"
     },
     "output_type": "display_data"
    }
   ],
   "source": [
    "plt.figure(figsize=(7,7))\n",
    "sns.scatterplot(x=data['Newspaper'], y=data['Sales'])\n",
    "plt.xlabel('Newspaper', fontsize= 15)\n",
    "plt.ylabel('Sales Generated', fontsize=15)\n",
    "plt.title('Newspaper v/s Sales Generated',fontsize=20)\n",
    "plt.show()"
   ]
  },
  {
   "cell_type": "markdown",
   "metadata": {},
   "source": [
    "Here we can see data is not having perfect linear relationship. Initialy sales increase but after that sales decresing."
   ]
  },
  {
   "cell_type": "code",
   "execution_count": 21,
   "metadata": {},
   "outputs": [
    {
     "data": {
      "text/plain": [
       "<seaborn.axisgrid.PairGrid at 0x2ae38c0b490>"
      ]
     },
     "execution_count": 21,
     "metadata": {},
     "output_type": "execute_result"
    },
    {
     "data": {
      "image/png": "[encoded data removed]",
      "text/plain": [
       "<Figure size 720x720 with 20 Axes>"
      ]
     },
     "metadata": {
      "needs_background": "light"
     },
     "output_type": "display_data"
    }
   ],
   "source": [
    "sns.pairplot(data)"
   ]
  },
  {
   "cell_type": "markdown",
   "metadata": {},
   "source": [
    "Here we can sumerise TV and Radio having stronge linear relationship with sales.\n",
    "\n",
    "On the  otherhand for newspaper , sales decresing at some points with increase in Newspaper."
   ]
  },
  {
   "cell_type": "markdown",
   "metadata": {},
   "source": [
    "# Correlation "
   ]
  },
  {
   "cell_type": "code",
   "execution_count": 22,
   "metadata": {},
   "outputs": [
    {
     "data": {
      "text/html": [
       "<div>\n",
       "<style scoped>\n",
       "    .dataframe tbody tr th:only-of-type {\n",
       "        vertical-align: middle;\n",
       "    }\n",
       "\n",
       "    .dataframe tbody tr th {\n",
       "        vertical-align: top;\n",
       "    }\n",
       "\n",
       "    .dataframe thead th {\n",
       "        text-align: right;\n",
       "    }\n",
       "</style>\n",
       "<table border=\"1\" class=\"dataframe\">\n",
       "  <thead>\n",
       "    <tr style=\"text-align: right;\">\n",
       "      <th></th>\n",
       "      <th>TV</th>\n",
       "      <th>Radio</th>\n",
       "      <th>Newspaper</th>\n",
       "      <th>Sales</th>\n",
       "    </tr>\n",
       "  </thead>\n",
       "  <tbody>\n",
       "    <tr>\n",
       "      <th>TV</th>\n",
       "      <td>1.000000</td>\n",
       "      <td>0.054809</td>\n",
       "      <td>0.056648</td>\n",
       "      <td>0.782224</td>\n",
       "    </tr>\n",
       "    <tr>\n",
       "      <th>Radio</th>\n",
       "      <td>0.054809</td>\n",
       "      <td>1.000000</td>\n",
       "      <td>0.354104</td>\n",
       "      <td>0.576223</td>\n",
       "    </tr>\n",
       "    <tr>\n",
       "      <th>Newspaper</th>\n",
       "      <td>0.056648</td>\n",
       "      <td>0.354104</td>\n",
       "      <td>1.000000</td>\n",
       "      <td>0.228299</td>\n",
       "    </tr>\n",
       "    <tr>\n",
       "      <th>Sales</th>\n",
       "      <td>0.782224</td>\n",
       "      <td>0.576223</td>\n",
       "      <td>0.228299</td>\n",
       "      <td>1.000000</td>\n",
       "    </tr>\n",
       "  </tbody>\n",
       "</table>\n",
       "</div>"
      ],
      "text/plain": [
       "                 TV     Radio  Newspaper     Sales\n",
       "TV         1.000000  0.054809   0.056648  0.782224\n",
       "Radio      0.054809  1.000000   0.354104  0.576223\n",
       "Newspaper  0.056648  0.354104   1.000000  0.228299\n",
       "Sales      0.782224  0.576223   0.228299  1.000000"
      ]
     },
     "execution_count": 22,
     "metadata": {},
     "output_type": "execute_result"
    }
   ],
   "source": [
    "data.corr()"
   ]
  },
  {
   "cell_type": "code",
   "execution_count": 23,
   "metadata": {},
   "outputs": [
    {
     "data": {
      "image/png": "[encoded data removed]",
      "text/plain": [
       "<Figure size 720x504 with 2 Axes>"
      ]
     },
     "metadata": {
      "needs_background": "light"
     },
     "output_type": "display_data"
    }
   ],
   "source": [
    "plt.figure(figsize= (10,7))\n",
    "sns.heatmap(data.corr(), annot= True, linewidth=1, linecolor='Black',fmt=' .2f')\n",
    "plt.show()"
   ]
  },
  {
   "cell_type": "markdown",
   "metadata": {},
   "source": [
    "Here we can see Tv is having strong corelation with sales, and Newspaper having less correlation as compared to others.\n",
    "\n",
    "Radio is also having good correlation with sales.\n",
    "\n",
    "All the three Features are contributing positively to predict sales data."
   ]
  },
  {
   "cell_type": "markdown",
   "metadata": {},
   "source": [
    "#### Checking Outliers"
   ]
  },
  {
   "cell_type": "code",
   "execution_count": 24,
   "metadata": {},
   "outputs": [
    {
     "data": {
      "image/png": "[encoded data removed]",
      "text/plain": [
       "<Figure size 720x1440 with 4 Axes>"
      ]
     },
     "metadata": {
      "needs_background": "light"
     },
     "output_type": "display_data"
    }
   ],
   "source": [
    "collist= data.columns.values\n",
    "plt.figure(figsize= (10,20))\n",
    "\n",
    "for i in range(0, len(collist)):\n",
    "    plt.subplot(4, 4, i+1)\n",
    "    sns.boxplot(y=data[collist[i]], color='green', orient='x')\n",
    "    plt.tight_layout()"
   ]
  },
  {
   "cell_type": "markdown",
   "metadata": {},
   "source": [
    "Here we can see only Newspaper having outliers present."
   ]
  },
  {
   "cell_type": "markdown",
   "metadata": {},
   "source": [
    "#### Removing outliers"
   ]
  },
  {
   "cell_type": "code",
   "execution_count": 25,
   "metadata": {},
   "outputs": [],
   "source": [
    "from scipy.stats import zscore\n",
    "z=np.abs(zscore(data))"
   ]
  },
  {
   "cell_type": "code",
   "execution_count": 26,
   "metadata": {},
   "outputs": [
    {
     "data": {
      "text/plain": [
       "(array([ 16, 101], dtype=int64), array([2, 2], dtype=int64))"
      ]
     },
     "execution_count": 26,
     "metadata": {},
     "output_type": "execute_result"
    }
   ],
   "source": [
    "np.where(z>3)"
   ]
  },
  {
   "cell_type": "markdown",
   "metadata": {},
   "source": [
    "Only Two outliers are present."
   ]
  },
  {
   "cell_type": "code",
   "execution_count": 27,
   "metadata": {},
   "outputs": [
    {
     "name": "stdout",
     "output_type": "stream",
     "text": [
      "(200, 4)\n",
      "(198, 4)\n"
     ]
    }
   ],
   "source": [
    "df_new = data[(z<3).all(axis=1)]\n",
    "print(data.shape)\n",
    "print(df_new.shape)"
   ]
  },
  {
   "cell_type": "code",
   "execution_count": 28,
   "metadata": {},
   "outputs": [
    {
     "name": "stdout",
     "output_type": "stream",
     "text": [
      "1.0\n"
     ]
    }
   ],
   "source": [
    "Loss_percentage=(200-198)/200*100\n",
    "print(Loss_percentage)"
   ]
  },
  {
   "cell_type": "markdown",
   "metadata": {},
   "source": [
    "### Skewness"
   ]
  },
  {
   "cell_type": "code",
   "execution_count": 29,
   "metadata": {},
   "outputs": [
    {
     "data": {
      "text/plain": [
       "TV          -0.082332\n",
       "Radio        0.114842\n",
       "Newspaper    0.650112\n",
       "Sales        0.407130\n",
       "dtype: float64"
      ]
     },
     "execution_count": 29,
     "metadata": {},
     "output_type": "execute_result"
    }
   ],
   "source": [
    "df_new.skew()"
   ]
  },
  {
   "cell_type": "markdown",
   "metadata": {},
   "source": [
    "Here we can see Newspaper column having skewness.\n",
    "\n",
    "So before going for removing stage lest Dividing data in feature and vectors."
   ]
  },
  {
   "cell_type": "code",
   "execution_count": 30,
   "metadata": {},
   "outputs": [],
   "source": [
    "x=df_new.iloc[:,0:-1]"
   ]
  },
  {
   "cell_type": "code",
   "execution_count": 31,
   "metadata": {},
   "outputs": [],
   "source": [
    "y=df_new.iloc[:,-1]"
   ]
  },
  {
   "cell_type": "code",
   "execution_count": 32,
   "metadata": {},
   "outputs": [],
   "source": [
    "from sklearn.preprocessing import power_transform\n",
    "x=power_transform(x,method='yeo-johnson')"
   ]
  },
  {
   "cell_type": "markdown",
   "metadata": {},
   "source": [
    "We have removed the skewness present in the data."
   ]
  },
  {
   "cell_type": "markdown",
   "metadata": {},
   "source": [
    "### Scaling data"
   ]
  },
  {
   "cell_type": "code",
   "execution_count": 33,
   "metadata": {},
   "outputs": [],
   "source": [
    "from sklearn.preprocessing import StandardScaler"
   ]
  },
  {
   "cell_type": "code",
   "execution_count": 34,
   "metadata": {},
   "outputs": [],
   "source": [
    "SD= StandardScaler()\n",
    "X=SD.fit_transform(x)"
   ]
  },
  {
   "cell_type": "code",
   "execution_count": 35,
   "metadata": {},
   "outputs": [],
   "source": [
    "X=pd.DataFrame(data=X)"
   ]
  },
  {
   "cell_type": "code",
   "execution_count": 36,
   "metadata": {},
   "outputs": [],
   "source": [
    "from statsmodels.stats.outliers_influence import variance_inflation_factor\n",
    "def calc_vif(x):\n",
    "    vif=pd.DataFrame()\n",
    "    vif['variables']=x.columns\n",
    "    vif['VIF FACTOR']=[variance_inflation_factor(x.values,i) for i in range(x.shape[1])]\n",
    "    return(vif)"
   ]
  },
  {
   "cell_type": "code",
   "execution_count": 37,
   "metadata": {},
   "outputs": [
    {
     "data": {
      "text/html": [
       "<div>\n",
       "<style scoped>\n",
       "    .dataframe tbody tr th:only-of-type {\n",
       "        vertical-align: middle;\n",
       "    }\n",
       "\n",
       "    .dataframe tbody tr th {\n",
       "        vertical-align: top;\n",
       "    }\n",
       "\n",
       "    .dataframe thead th {\n",
       "        text-align: right;\n",
       "    }\n",
       "</style>\n",
       "<table border=\"1\" class=\"dataframe\">\n",
       "  <thead>\n",
       "    <tr style=\"text-align: right;\">\n",
       "      <th></th>\n",
       "      <th>variables</th>\n",
       "      <th>VIF FACTOR</th>\n",
       "    </tr>\n",
       "  </thead>\n",
       "  <tbody>\n",
       "    <tr>\n",
       "      <th>0</th>\n",
       "      <td>0</td>\n",
       "      <td>1.002693</td>\n",
       "    </tr>\n",
       "    <tr>\n",
       "      <th>1</th>\n",
       "      <td>1</td>\n",
       "      <td>1.088710</td>\n",
       "    </tr>\n",
       "    <tr>\n",
       "      <th>2</th>\n",
       "      <td>2</td>\n",
       "      <td>1.087940</td>\n",
       "    </tr>\n",
       "  </tbody>\n",
       "</table>\n",
       "</div>"
      ],
      "text/plain": [
       "   variables  VIF FACTOR\n",
       "0          0    1.002693\n",
       "1          1    1.088710\n",
       "2          2    1.087940"
      ]
     },
     "execution_count": 37,
     "metadata": {},
     "output_type": "execute_result"
    }
   ],
   "source": [
    "calc_vif(X)"
   ]
  },
  {
   "cell_type": "markdown",
   "metadata": {},
   "source": [
    "We can see data is not having multicollinearuty we can proceed."
   ]
  },
  {
   "cell_type": "markdown",
   "metadata": {},
   "source": [
    "# Model Design"
   ]
  },
  {
   "cell_type": "code",
   "execution_count": 38,
   "metadata": {},
   "outputs": [],
   "source": [
    "from sklearn.linear_model import LinearRegression\n",
    "\n",
    "from sklearn.neighbors import KNeighborsRegressor\n",
    "\n",
    "from sklearn.tree import DecisionTreeRegressor\n",
    "\n",
    "from sklearn.linear_model import Ridge\n",
    "from sklearn.linear_model import Lasso\n",
    "\n",
    "from sklearn.ensemble import RandomForestRegressor\n",
    "from sklearn.ensemble import AdaBoostRegressor\n",
    "\n",
    "\n",
    "from sklearn.model_selection import train_test_split\n",
    "from sklearn.linear_model import LinearRegression \n",
    "\n",
    "from sklearn.metrics import mean_absolute_error,mean_squared_error,r2_score"
   ]
  },
  {
   "cell_type": "code",
   "execution_count": 39,
   "metadata": {},
   "outputs": [
    {
     "name": "stdout",
     "output_type": "stream",
     "text": [
      "At Random Stat 0, the training accuracy is:0.901291002097885\n",
      "At Random Stat 0, the testing accuracy is:0.9153223525494354\n",
      "\n",
      "\n",
      "At Random Stat 1, the training accuracy is:0.907560705387535\n",
      "At Random Stat 1, the testing accuracy is:0.8899875371730133\n",
      "\n",
      "\n",
      "At Random Stat 2, the training accuracy is:0.9145487608535885\n",
      "At Random Stat 2, the testing accuracy is:0.8690670885581865\n",
      "\n",
      "\n",
      "At Random Stat 3, the training accuracy is:0.9038683476410915\n",
      "At Random Stat 3, the testing accuracy is:0.9094654993350766\n",
      "\n",
      "\n",
      "At Random Stat 4, the training accuracy is:0.9080156627542778\n",
      "At Random Stat 4, the testing accuracy is:0.8805025579845183\n",
      "\n",
      "\n",
      "At Random Stat 5, the training accuracy is:0.9044410731238212\n",
      "At Random Stat 5, the testing accuracy is:0.8945026194148484\n",
      "\n",
      "\n",
      "At Random Stat 6, the training accuracy is:0.9071648377019736\n",
      "At Random Stat 6, the testing accuracy is:0.8921657380222972\n",
      "\n",
      "\n",
      "At Random Stat 7, the training accuracy is:0.9034105955818168\n",
      "At Random Stat 7, the testing accuracy is:0.9083214353182578\n",
      "\n",
      "\n",
      "At Random Stat 8, the training accuracy is:0.908562751611754\n",
      "At Random Stat 8, the testing accuracy is:0.8853178974138564\n",
      "\n",
      "\n",
      "At Random Stat 9, the training accuracy is:0.9023597451011641\n",
      "At Random Stat 9, the testing accuracy is:0.9122373580268192\n",
      "\n",
      "\n",
      "At Random Stat 10, the training accuracy is:0.9256794776122023\n",
      "At Random Stat 10, the testing accuracy is:0.8240271000975485\n",
      "\n",
      "\n",
      "At Random Stat 11, the training accuracy is:0.8955368008631939\n",
      "At Random Stat 11, the testing accuracy is:0.9323027961362416\n",
      "\n",
      "\n",
      "At Random Stat 12, the training accuracy is:0.903289385712865\n",
      "At Random Stat 12, the testing accuracy is:0.9090076724718209\n",
      "\n",
      "\n",
      "At Random Stat 13, the training accuracy is:0.913578768471947\n",
      "At Random Stat 13, the testing accuracy is:0.8647030765794432\n",
      "\n",
      "\n",
      "At Random Stat 14, the training accuracy is:0.8990266863873638\n",
      "At Random Stat 14, the testing accuracy is:0.9150911456757513\n",
      "\n",
      "\n",
      "At Random Stat 15, the training accuracy is:0.9022375985711596\n",
      "At Random Stat 15, the testing accuracy is:0.9133601161067448\n",
      "\n",
      "\n",
      "At Random Stat 16, the training accuracy is:0.9016649377095218\n",
      "At Random Stat 16, the testing accuracy is:0.9145663292536097\n",
      "\n",
      "\n",
      "At Random Stat 17, the training accuracy is:0.9051915317193867\n",
      "At Random Stat 17, the testing accuracy is:0.9009507724238697\n",
      "\n",
      "\n",
      "At Random Stat 18, the training accuracy is:0.9159453992969762\n",
      "At Random Stat 18, the testing accuracy is:0.8610034373772409\n",
      "\n",
      "\n",
      "At Random Stat 19, the training accuracy is:0.9098958945807767\n",
      "At Random Stat 19, the testing accuracy is:0.8552260567386734\n",
      "\n",
      "\n",
      "At Random Stat 20, the training accuracy is:0.8974714268832219\n",
      "At Random Stat 20, the testing accuracy is:0.920396898153733\n",
      "\n",
      "\n",
      "At Random Stat 21, the training accuracy is:0.8973906661503069\n",
      "At Random Stat 21, the testing accuracy is:0.927897406199202\n",
      "\n",
      "\n",
      "At Random Stat 22, the training accuracy is:0.9001304726424253\n",
      "At Random Stat 22, the testing accuracy is:0.9208951970230005\n",
      "\n",
      "\n",
      "At Random Stat 23, the training accuracy is:0.8982658998510373\n",
      "At Random Stat 23, the testing accuracy is:0.9275235609491286\n",
      "\n",
      "\n",
      "At Random Stat 24, the training accuracy is:0.894887816504894\n",
      "At Random Stat 24, the testing accuracy is:0.9404645313166984\n",
      "\n",
      "\n",
      "At Random Stat 25, the training accuracy is:0.8966415517744912\n",
      "At Random Stat 25, the testing accuracy is:0.9332158436254717\n",
      "\n",
      "\n",
      "At Random Stat 26, the training accuracy is:0.9117269728502922\n",
      "At Random Stat 26, the testing accuracy is:0.8493162999703563\n",
      "\n",
      "\n",
      "At Random Stat 27, the training accuracy is:0.9156567014224747\n",
      "At Random Stat 27, the testing accuracy is:0.8461220328650048\n",
      "\n",
      "\n",
      "At Random Stat 28, the training accuracy is:0.9194052486652297\n",
      "At Random Stat 28, the testing accuracy is:0.8540027770273637\n",
      "\n",
      "\n",
      "At Random Stat 29, the training accuracy is:0.9150133297832483\n",
      "At Random Stat 29, the testing accuracy is:0.8651826160067966\n",
      "\n",
      "\n",
      "At Random Stat 30, the training accuracy is:0.919114017540048\n",
      "At Random Stat 30, the testing accuracy is:0.8468345231987907\n",
      "\n",
      "\n",
      "At Random Stat 31, the training accuracy is:0.8943933226422129\n",
      "At Random Stat 31, the testing accuracy is:0.9315839453507959\n",
      "\n",
      "\n",
      "At Random Stat 32, the training accuracy is:0.898441613932287\n",
      "At Random Stat 32, the testing accuracy is:0.9249198196359107\n",
      "\n",
      "\n",
      "At Random Stat 33, the training accuracy is:0.9072960420357015\n",
      "At Random Stat 33, the testing accuracy is:0.890231330064583\n",
      "\n",
      "\n",
      "At Random Stat 34, the training accuracy is:0.9075448931300905\n",
      "At Random Stat 34, the testing accuracy is:0.8849668540749824\n",
      "\n",
      "\n",
      "At Random Stat 35, the training accuracy is:0.8974915451573894\n",
      "At Random Stat 35, the testing accuracy is:0.9385999683961179\n",
      "\n",
      "\n",
      "At Random Stat 36, the training accuracy is:0.9022545664368533\n",
      "At Random Stat 36, the testing accuracy is:0.9125455902441195\n",
      "\n",
      "\n",
      "At Random Stat 37, the training accuracy is:0.9024665380497792\n",
      "At Random Stat 37, the testing accuracy is:0.9186110626326983\n",
      "\n",
      "\n",
      "At Random Stat 38, the training accuracy is:0.9020939183128821\n",
      "At Random Stat 38, the testing accuracy is:0.9165843765844757\n",
      "\n",
      "\n",
      "At Random Stat 39, the training accuracy is:0.9096769483848226\n",
      "At Random Stat 39, the testing accuracy is:0.8816308659010123\n",
      "\n",
      "\n",
      "At Random Stat 40, the training accuracy is:0.9066035712911272\n",
      "At Random Stat 40, the testing accuracy is:0.89014744917752\n",
      "\n",
      "\n",
      "At Random Stat 41, the training accuracy is:0.9084524814773396\n",
      "At Random Stat 41, the testing accuracy is:0.878466816593746\n",
      "\n",
      "\n",
      "At Random Stat 42, the training accuracy is:0.9046797524787555\n",
      "At Random Stat 42, the testing accuracy is:0.9037853658665029\n",
      "\n",
      "\n",
      "At Random Stat 43, the training accuracy is:0.9062849166341181\n",
      "At Random Stat 43, the testing accuracy is:0.8967325225389982\n",
      "\n",
      "\n",
      "At Random Stat 44, the training accuracy is:0.9070919178478469\n",
      "At Random Stat 44, the testing accuracy is:0.8688030195986209\n",
      "\n",
      "\n",
      "At Random Stat 45, the training accuracy is:0.9040652031111758\n",
      "At Random Stat 45, the testing accuracy is:0.9057393659221862\n",
      "\n",
      "\n",
      "At Random Stat 46, the training accuracy is:0.9088357852410767\n",
      "At Random Stat 46, the testing accuracy is:0.8845202426181593\n",
      "\n",
      "\n",
      "At Random Stat 47, the training accuracy is:0.9036099424414817\n",
      "At Random Stat 47, the testing accuracy is:0.9066019878401183\n",
      "\n",
      "\n",
      "At Random Stat 48, the training accuracy is:0.9104503572403474\n",
      "At Random Stat 48, the testing accuracy is:0.8823951403048893\n",
      "\n",
      "\n",
      "At Random Stat 49, the training accuracy is:0.9143897219263015\n",
      "At Random Stat 49, the testing accuracy is:0.8651606940697213\n",
      "\n",
      "\n",
      "At Random Stat 50, the training accuracy is:0.9104560728842174\n",
      "At Random Stat 50, the testing accuracy is:0.8575174941501008\n",
      "\n",
      "\n",
      "At Random Stat 51, the training accuracy is:0.9038241673846332\n",
      "At Random Stat 51, the testing accuracy is:0.9031024394747438\n",
      "\n",
      "\n",
      "At Random Stat 52, the training accuracy is:0.9054149654395894\n",
      "At Random Stat 52, the testing accuracy is:0.8973908059193137\n",
      "\n",
      "\n",
      "At Random Stat 53, the training accuracy is:0.9110496305098248\n",
      "At Random Stat 53, the testing accuracy is:0.8741519881078036\n",
      "\n",
      "\n",
      "At Random Stat 54, the training accuracy is:0.9087915036505674\n",
      "At Random Stat 54, the testing accuracy is:0.8849009524636278\n",
      "\n",
      "\n",
      "At Random Stat 55, the training accuracy is:0.903993677091941\n",
      "At Random Stat 55, the testing accuracy is:0.9047295196612013\n",
      "\n",
      "\n",
      "At Random Stat 56, the training accuracy is:0.9088538574596642\n",
      "At Random Stat 56, the testing accuracy is:0.8842792722037216\n",
      "\n",
      "\n",
      "At Random Stat 57, the training accuracy is:0.9120663000203063\n",
      "At Random Stat 57, the testing accuracy is:0.8788841180720129\n",
      "\n",
      "\n",
      "At Random Stat 58, the training accuracy is:0.8976555316811166\n",
      "At Random Stat 58, the testing accuracy is:0.9220833831899512\n",
      "\n",
      "\n",
      "At Random Stat 59, the training accuracy is:0.9030357015265937\n",
      "At Random Stat 59, the testing accuracy is:0.9058539111667334\n",
      "\n",
      "\n",
      "At Random Stat 60, the training accuracy is:0.9060103435993259\n",
      "At Random Stat 60, the testing accuracy is:0.8970435896150584\n",
      "\n",
      "\n",
      "At Random Stat 61, the training accuracy is:0.9124675938583844\n",
      "At Random Stat 61, the testing accuracy is:0.8721655938312861\n",
      "\n",
      "\n",
      "At Random Stat 62, the training accuracy is:0.9095197139268838\n",
      "At Random Stat 62, the testing accuracy is:0.8714441853690329\n",
      "\n",
      "\n",
      "At Random Stat 63, the training accuracy is:0.9057853514975621\n",
      "At Random Stat 63, the testing accuracy is:0.8991990315403818\n",
      "\n",
      "\n",
      "At Random Stat 64, the training accuracy is:0.9004774851126243\n",
      "At Random Stat 64, the testing accuracy is:0.9182395751912218\n",
      "\n",
      "\n",
      "At Random Stat 65, the training accuracy is:0.9111650166662695\n",
      "At Random Stat 65, the testing accuracy is:0.8828154199531533\n",
      "\n",
      "\n",
      "At Random Stat 66, the training accuracy is:0.910765346708222\n",
      "At Random Stat 66, the testing accuracy is:0.8812765930277345\n",
      "\n",
      "\n",
      "At Random Stat 67, the training accuracy is:0.8983947994198249\n",
      "At Random Stat 67, the testing accuracy is:0.9277726511999598\n",
      "\n",
      "\n",
      "At Random Stat 68, the training accuracy is:0.9107068917756588\n",
      "At Random Stat 68, the testing accuracy is:0.881479810441061\n",
      "\n",
      "\n",
      "At Random Stat 69, the training accuracy is:0.9056183846633148\n",
      "At Random Stat 69, the testing accuracy is:0.899092860840367\n",
      "\n",
      "\n",
      "At Random Stat 70, the training accuracy is:0.8982814621765595\n",
      "At Random Stat 70, the testing accuracy is:0.9181730549508991\n",
      "\n",
      "\n",
      "At Random Stat 71, the training accuracy is:0.91196390382557\n",
      "At Random Stat 71, the testing accuracy is:0.8593064528492894\n",
      "\n",
      "\n",
      "At Random Stat 72, the training accuracy is:0.9049017800415128\n",
      "At Random Stat 72, the testing accuracy is:0.9027211327534861\n",
      "\n",
      "\n",
      "At Random Stat 73, the training accuracy is:0.9056791727496029\n",
      "At Random Stat 73, the testing accuracy is:0.8957572280283305\n",
      "\n",
      "\n",
      "At Random Stat 74, the training accuracy is:0.8889000730282358\n",
      "At Random Stat 74, the testing accuracy is:0.9274069162246448\n",
      "\n",
      "\n",
      "At Random Stat 75, the training accuracy is:0.9070384634175925\n",
      "At Random Stat 75, the testing accuracy is:0.8785527905964946\n",
      "\n",
      "\n",
      "At Random Stat 76, the training accuracy is:0.9105607876343562\n",
      "At Random Stat 76, the testing accuracy is:0.8755117807373417\n",
      "\n",
      "\n",
      "At Random Stat 77, the training accuracy is:0.9005925407589889\n",
      "At Random Stat 77, the testing accuracy is:0.9179516947889473\n",
      "\n",
      "\n",
      "At Random Stat 78, the training accuracy is:0.9145141190945101\n",
      "At Random Stat 78, the testing accuracy is:0.8456080844762168\n",
      "\n",
      "\n",
      "At Random Stat 79, the training accuracy is:0.9034230169686297\n",
      "At Random Stat 79, the testing accuracy is:0.9032665890079106\n",
      "\n",
      "\n",
      "At Random Stat 80, the training accuracy is:0.9024426012918224\n",
      "At Random Stat 80, the testing accuracy is:0.9135037189645718\n",
      "\n",
      "\n",
      "At Random Stat 81, the training accuracy is:0.9008274567894309\n",
      "At Random Stat 81, the testing accuracy is:0.9187757950146938\n",
      "\n",
      "\n",
      "At Random Stat 82, the training accuracy is:0.9197224738343049\n",
      "At Random Stat 82, the testing accuracy is:0.8443733434529911\n",
      "\n",
      "\n",
      "At Random Stat 83, the training accuracy is:0.9106876216578011\n",
      "At Random Stat 83, the testing accuracy is:0.8882813731213719\n",
      "\n",
      "\n",
      "At Random Stat 84, the training accuracy is:0.8994929429676539\n",
      "At Random Stat 84, the testing accuracy is:0.9193061837464455\n",
      "\n",
      "\n",
      "At Random Stat 85, the training accuracy is:0.9147115487418627\n",
      "At Random Stat 85, the testing accuracy is:0.823453851083247\n",
      "\n",
      "\n",
      "At Random Stat 86, the training accuracy is:0.9048952586548158\n",
      "At Random Stat 86, the testing accuracy is:0.9035742684820789\n",
      "\n",
      "\n",
      "At Random Stat 87, the training accuracy is:0.9146434182473266\n",
      "At Random Stat 87, the testing accuracy is:0.8588374474929137\n",
      "\n",
      "\n",
      "At Random Stat 88, the training accuracy is:0.9034623532481936\n",
      "At Random Stat 88, the testing accuracy is:0.9107406429945286\n",
      "\n",
      "\n",
      "At Random Stat 89, the training accuracy is:0.9118911984505276\n",
      "At Random Stat 89, the testing accuracy is:0.8597757729358093\n",
      "\n",
      "\n",
      "At Random Stat 90, the training accuracy is:0.8916041936466815\n",
      "At Random Stat 90, the testing accuracy is:0.94733623324414\n",
      "\n",
      "\n",
      "At Random Stat 91, the training accuracy is:0.9047629406127735\n",
      "At Random Stat 91, the testing accuracy is:0.9001356159950384\n",
      "\n",
      "\n",
      "At Random Stat 92, the training accuracy is:0.9088202099276396\n",
      "At Random Stat 92, the testing accuracy is:0.8858220530269221\n",
      "\n",
      "\n",
      "At Random Stat 93, the training accuracy is:0.9151854410661746\n",
      "At Random Stat 93, the testing accuracy is:0.8637155302435192\n",
      "\n",
      "\n",
      "At Random Stat 94, the training accuracy is:0.9110475226719051\n",
      "At Random Stat 94, the testing accuracy is:0.8852436435500095\n",
      "\n",
      "\n",
      "At Random Stat 95, the training accuracy is:0.9132516219536359\n",
      "At Random Stat 95, the testing accuracy is:0.8731956301728426\n",
      "\n",
      "\n",
      "At Random Stat 96, the training accuracy is:0.9112636342311893\n",
      "At Random Stat 96, the testing accuracy is:0.8704465516960881\n",
      "\n",
      "\n",
      "At Random Stat 97, the training accuracy is:0.9027328624671186\n",
      "At Random Stat 97, the testing accuracy is:0.9126335764750965\n",
      "\n",
      "\n",
      "At Random Stat 98, the training accuracy is:0.9122144457635871\n",
      "At Random Stat 98, the testing accuracy is:0.8704532222916821\n",
      "\n",
      "\n",
      "At Random Stat 99, the training accuracy is:0.8953616294800109\n",
      "At Random Stat 99, the testing accuracy is:0.9312602169950902\n",
      "\n",
      "\n"
     ]
    }
   ],
   "source": [
    "lr=LinearRegression()\n",
    "for i in range(0, 100):\n",
    "    x_train, x_test, y_train, y_test= train_test_split(X,y,random_state= i,test_size=0.20)\n",
    "    lr.fit(x_train,y_train)\n",
    "    pred_train= lr.predict(x_train)\n",
    "    pred_test= lr.predict(x_test)\n",
    "    print(f\"At Random Stat {i}, the training accuracy is:{r2_score(y_train,pred_train)}\")\n",
    "    print(f\"At Random Stat {i}, the testing accuracy is:{r2_score(y_test,pred_test)}\")\n",
    "    print(\"\\n\")"
   ]
  },
  {
   "cell_type": "markdown",
   "metadata": {},
   "source": [
    "At Random Stat 55, the training accuracy is:0.8885\n",
    "At Random Stat 55, the testing accuracy is:0.8879"
   ]
  },
  {
   "cell_type": "code",
   "execution_count": 40,
   "metadata": {},
   "outputs": [],
   "source": [
    "x_train_b, x_test_b, y_train_b, y_test_b= train_test_split(X,y,test_size=0.20, random_state=55)"
   ]
  },
  {
   "cell_type": "code",
   "execution_count": 41,
   "metadata": {},
   "outputs": [
    {
     "name": "stdout",
     "output_type": "stream",
     "text": [
      "0.9047295196612013\n"
     ]
    }
   ],
   "source": [
    "lr.fit(x_train_b,y_train_b)\n",
    "pred_test=lr.predict(x_test_b)\n",
    "\n",
    "print(r2_score(y_test_b,pred_test))"
   ]
  },
  {
   "cell_type": "markdown",
   "metadata": {},
   "source": [
    "Linear Regression model given good Accuracy."
   ]
  },
  {
   "cell_type": "markdown",
   "metadata": {},
   "source": [
    "# Cross Validation of Model"
   ]
  },
  {
   "cell_type": "code",
   "execution_count": 42,
   "metadata": {},
   "outputs": [
    {
     "name": "stdout",
     "output_type": "stream",
     "text": [
      "At cross fold 2 the Cross Val score is 90.17064197605747 and Accuracy score is 90.47295196612014\n",
      "At cross fold 3 the Cross Val score is 89.73645562112824 and Accuracy score is 90.47295196612014\n",
      "At cross fold 4 the Cross Val score is 89.86654359289577 and Accuracy score is 90.47295196612014\n",
      "At cross fold 5 the Cross Val score is 89.58270968555071 and Accuracy score is 90.47295196612014\n",
      "At cross fold 6 the Cross Val score is 89.87009469201537 and Accuracy score is 90.47295196612014\n",
      "At cross fold 7 the Cross Val score is 89.4944294999198 and Accuracy score is 90.47295196612014\n",
      "At cross fold 8 the Cross Val score is 89.80187277211998 and Accuracy score is 90.47295196612014\n",
      "At cross fold 9 the Cross Val score is 89.38982316418993 and Accuracy score is 90.47295196612014\n"
     ]
    }
   ],
   "source": [
    "test_accuracy= r2_score(y_test_b,pred_test)\n",
    "\n",
    "from sklearn.model_selection import cross_val_score\n",
    "for i in range(2,10):\n",
    "    cv_score=cross_val_score(lr,X,y,cv=i)\n",
    "    cv_mean=cv_score.mean()\n",
    "    print(f\"At cross fold {i} the Cross Val score is {cv_mean*100} and Accuracy score is {test_accuracy*100}\")"
   ]
  },
  {
   "cell_type": "markdown",
   "metadata": {},
   "source": [
    "At cross fold 2 the Cross Val score is 88.43195997533311 and Accuracy score is 88.79745823374323\n",
    "\n",
    "Selcted cv=2 , Because we having very less diffrence in percentage at cv=2.\n",
    "\n",
    "Model accuracy is good, but we can use regularization to find best results, lets check."
   ]
  },
  {
   "cell_type": "markdown",
   "metadata": {},
   "source": [
    "# Lasso"
   ]
  },
  {
   "cell_type": "code",
   "execution_count": 43,
   "metadata": {},
   "outputs": [
    {
     "name": "stdout",
     "output_type": "stream",
     "text": [
      "{'alpha': 0.1, 'random_state': 0}\n"
     ]
    }
   ],
   "source": [
    "from sklearn.model_selection import GridSearchCV\n",
    "from sklearn.linear_model import Lasso\n",
    "\n",
    "parameters= {'alpha':[0.0001,0.001,0.01,0.1,1,10], 'random_state': list(range(0,10))}\n",
    "ls=Lasso()\n",
    "clf=GridSearchCV(ls, parameters)\n",
    "clf.fit(x_train_b, y_train_b)\n",
    "print(clf.best_params_)"
   ]
  },
  {
   "cell_type": "code",
   "execution_count": 44,
   "metadata": {},
   "outputs": [
    {
     "name": "stdout",
     "output_type": "stream",
     "text": [
      "R2 score: 90.03579240716098\n",
      "Cross val Score : 89.80785666814384\n"
     ]
    }
   ],
   "source": [
    "ls=Lasso(alpha=0.1, random_state=0)\n",
    "ls.fit(x_train_b, y_train_b)\n",
    "ls.score(x_train_b, y_train_b)\n",
    "ls_pred=ls.predict(x_test_b)\n",
    "\n",
    "lsd=r2_score(y_test_b, ls_pred)\n",
    "print('R2 score:', lsd*100)\n",
    "\n",
    "rdscore= cross_val_score(ls,X,y,cv=4)\n",
    "lsc=rdscore.mean()\n",
    "print('Cross val Score :', lsc*100)"
   ]
  },
  {
   "cell_type": "code",
   "execution_count": 45,
   "metadata": {},
   "outputs": [
    {
     "name": "stdout",
     "output_type": "stream",
     "text": [
      "Error:\n",
      "Mean Absolute Error: 1.4399669185457853\n",
      "Mean Squared Error: 3.1492351397028364\n",
      "Root Mean Square Error: 1.774608446870136\n"
     ]
    }
   ],
   "source": [
    "print('Error:')\n",
    "\n",
    "print('Mean Absolute Error:',mean_absolute_error(y_test_b,ls_pred))\n",
    "print('Mean Squared Error:', mean_squared_error(y_test_b,ls_pred))\n",
    "print('Root Mean Square Error:', np.sqrt(mean_squared_error(y_test_b,ls_pred)))"
   ]
  },
  {
   "cell_type": "code",
   "execution_count": 46,
   "metadata": {},
   "outputs": [
    {
     "data": {
      "image/png": "[encoded data removed]",
      "text/plain": [
       "<Figure size 576x504 with 1 Axes>"
      ]
     },
     "metadata": {
      "needs_background": "light"
     },
     "output_type": "display_data"
    }
   ],
   "source": [
    "plt.figure(figsize=(8,7))\n",
    "plt.scatter(x=y_test_b, y= ls_pred, color='r')\n",
    "plt.plot(y_test_b,y_test_b, color='b')\n",
    "plt.xlabel('Actual Age', fontsize= 14 )\n",
    "plt.ylabel('predicted Age', fontsize= 18)\n",
    "plt.show()"
   ]
  },
  {
   "cell_type": "markdown",
   "metadata": {},
   "source": [
    "We are getting good accuracy score, but it is not improved one. lets check with anather model."
   ]
  },
  {
   "cell_type": "markdown",
   "metadata": {},
   "source": [
    "# 2.Ridge"
   ]
  },
  {
   "cell_type": "code",
   "execution_count": 47,
   "metadata": {},
   "outputs": [
    {
     "name": "stdout",
     "output_type": "stream",
     "text": [
      "{'alpha': 0.01, 'copy_X': True, 'fit_intercept': True, 'normalize': True, 'tol': 0.0001}\n"
     ]
    }
   ],
   "source": [
    "parameters= {'alpha':[0.0001,0.001,0.01,0.1,1,10], 'fit_intercept': [True,False], 'normalize':[True, False], 'copy_X': [True , False], 'tol':[0.0001,0.001,0.01,0.1,1,10]}\n",
    "rd=Ridge()\n",
    "rdclf=GridSearchCV(rd, parameters)\n",
    "rdclf.fit(x_train_b, y_train_b)\n",
    "print(rdclf.best_params_)"
   ]
  },
  {
   "cell_type": "code",
   "execution_count": 48,
   "metadata": {},
   "outputs": [
    {
     "name": "stdout",
     "output_type": "stream",
     "text": [
      "r2 score:  90.3686860663911\n",
      "Cross val Score 90.15897912499331\n"
     ]
    }
   ],
   "source": [
    "rd= Ridge(alpha= 0.01, copy_X= True, fit_intercept= True, normalize= True, random_state=0 , tol= 0.0001)\n",
    "rd.fit(x_train_b, y_train_b)\n",
    "rd.score(x_train_b, y_train_b)\n",
    "rd_pred= rd.predict(x_test_b)\n",
    "\n",
    "rds=r2_score(y_test_b, rd_pred)\n",
    "print('r2 score: ', rds*100)\n",
    "\n",
    "rdcvscore= cross_val_score(rd,X,y,cv=2)\n",
    "rdcv=rdcvscore.mean()\n",
    "print('Cross val Score', rdcv*100)"
   ]
  },
  {
   "cell_type": "code",
   "execution_count": 49,
   "metadata": {},
   "outputs": [
    {
     "name": "stdout",
     "output_type": "stream",
     "text": [
      "Error:\n",
      "Mean Absolute Error: 1.4181158174033963\n",
      "Mean Squared Error: 3.0440225174582745\n",
      "Root Mean Square Error: 1.7447127320731841\n"
     ]
    }
   ],
   "source": [
    "print('Error:')\n",
    "\n",
    "print('Mean Absolute Error:',mean_absolute_error(y_test_b,rd_pred))\n",
    "print('Mean Squared Error:', mean_squared_error(y_test_b,rd_pred))\n",
    "print('Root Mean Square Error:', np.sqrt(mean_squared_error(y_test_b,rd_pred)))"
   ]
  },
  {
   "cell_type": "code",
   "execution_count": 50,
   "metadata": {},
   "outputs": [
    {
     "data": {
      "image/png": "[encoded data removed]",
      "text/plain": [
       "<Figure size 576x504 with 1 Axes>"
      ]
     },
     "metadata": {
      "needs_background": "light"
     },
     "output_type": "display_data"
    }
   ],
   "source": [
    "plt.figure(figsize=(8,7))\n",
    "plt.scatter(x=y_test_b, y= rd_pred, color='r')\n",
    "plt.plot(y_test_b,y_test_b, color='b')\n",
    "plt.xlabel('Actual Age', fontsize= 14 )\n",
    "plt.ylabel('predicted Age', fontsize= 18)\n",
    "plt.show()"
   ]
  },
  {
   "cell_type": "markdown",
   "metadata": {},
   "source": [
    "Ridge is performing same as the lasso, lets try DecisionTreeRegressor."
   ]
  },
  {
   "cell_type": "markdown",
   "metadata": {},
   "source": [
    "# 3.DecisionTreeRegressor"
   ]
  },
  {
   "cell_type": "code",
   "execution_count": 51,
   "metadata": {},
   "outputs": [
    {
     "name": "stdout",
     "output_type": "stream",
     "text": [
      "{'criterion': 'friedman_mse', 'splitter': 'random'}\n"
     ]
    }
   ],
   "source": [
    "parameters={'criterion':['mse','friedman_mse', 'mae', 'poisson'], 'splitter':['best', 'random']}\n",
    "dt=DecisionTreeRegressor()\n",
    "dtclf= GridSearchCV(dt, parameters )\n",
    "dtclf.fit(x_train_b, y_train_b)\n",
    "print(dtclf.best_params_)"
   ]
  },
  {
   "cell_type": "code",
   "execution_count": 52,
   "metadata": {},
   "outputs": [
    {
     "name": "stdout",
     "output_type": "stream",
     "text": [
      "R2 Score: 95.92001069434963\n",
      "Cross Val Score: 94.34762672409059\n"
     ]
    }
   ],
   "source": [
    "dt=DecisionTreeRegressor(criterion='friedman_mse', splitter='best' )\n",
    "dt.fit(x_train_b, y_train_b)\n",
    "dt.score(x_train_b, y_train_b)\n",
    "dt_pred=dt.predict(x_test_b)\n",
    "\n",
    "dt_score=r2_score(y_test_b, dt_pred)\n",
    "print('R2 Score:', dt_score*100)\n",
    "\n",
    "dtcvscore=cross_val_score(dt,X,y,cv=4)\n",
    "dtcv=dtcvscore.mean()\n",
    "print('Cross Val Score:', dtcv*100)"
   ]
  },
  {
   "cell_type": "code",
   "execution_count": 53,
   "metadata": {},
   "outputs": [
    {
     "data": {
      "image/png": "[encoded data removed]",
      "text/plain": [
       "<Figure size 576x504 with 1 Axes>"
      ]
     },
     "metadata": {
      "needs_background": "light"
     },
     "output_type": "display_data"
    }
   ],
   "source": [
    "plt.figure(figsize=(8,7))\n",
    "plt.scatter(x=y_test_b, y= dt_pred, color='r')\n",
    "plt.plot(y_test_b,y_test_b, color='b')\n",
    "plt.xlabel('Actual Age', fontsize= 14 )\n",
    "plt.ylabel('predicted Age', fontsize= 18)\n",
    "plt.show()"
   ]
  },
  {
   "cell_type": "markdown",
   "metadata": {},
   "source": [
    "Here we are getting good results, when we are using CV=4 , lets try this for KNeighborsRegressor."
   ]
  },
  {
   "cell_type": "markdown",
   "metadata": {},
   "source": [
    "# 4. KNeighborsRegressor"
   ]
  },
  {
   "cell_type": "code",
   "execution_count": 54,
   "metadata": {},
   "outputs": [
    {
     "name": "stdout",
     "output_type": "stream",
     "text": [
      "{'algorithm': 'auto', 'n_neighbors': 3, 'weights': 'distance'}\n"
     ]
    }
   ],
   "source": [
    "parameters={'n_neighbors':[1,2,3,5,6,7,8,9,10],'weights':['uniform', 'distance'], 'algorithm':['auto','ball_tree','kd_tree','brute']}\n",
    "kn=KNeighborsRegressor()\n",
    "knclf=GridSearchCV(kn,parameters)\n",
    "knclf.fit(x_train_b, y_train_b)\n",
    "print(knclf.best_params_)"
   ]
  },
  {
   "cell_type": "code",
   "execution_count": 55,
   "metadata": {},
   "outputs": [
    {
     "name": "stdout",
     "output_type": "stream",
     "text": [
      "R2 Score: 0 94.88768275216405\n",
      "Cross val Score : 95.1416462723989\n"
     ]
    }
   ],
   "source": [
    "kn=KNeighborsRegressor(algorithm='auto', n_neighbors=5, weights='distance')\n",
    "kn.fit(x_train_b, y_train_b)\n",
    "kn.score(x_train_b,y_train_b)\n",
    "kn_pred=kn.predict(x_test_b)\n",
    "\n",
    "kn_score= r2_score(y_test_b, kn_pred)\n",
    "print('R2 Score: 0', kn_score*100)\n",
    "\n",
    "kn_cvscore=cross_val_score(kn,X,y, cv=4)\n",
    "cv_mean=kn_cvscore.mean()\n",
    "print('Cross val Score :',cv_mean*100 )"
   ]
  },
  {
   "cell_type": "code",
   "execution_count": 56,
   "metadata": {},
   "outputs": [
    {
     "name": "stdout",
     "output_type": "stream",
     "text": [
      "Error:\n",
      "Mean Absolute Error: 0.8935166775271253\n",
      "Mean Squared Error: 1.6157721496854762\n",
      "Root Mean Square Error: 1.2711302646406766\n"
     ]
    }
   ],
   "source": [
    "print('Error:')\n",
    "\n",
    "print('Mean Absolute Error:',mean_absolute_error(y_test_b,kn_pred))\n",
    "print('Mean Squared Error:', mean_squared_error(y_test_b,kn_pred))\n",
    "print('Root Mean Square Error:', np.sqrt(mean_squared_error(y_test_b,kn_pred)))"
   ]
  },
  {
   "cell_type": "code",
   "execution_count": 57,
   "metadata": {},
   "outputs": [
    {
     "data": {
      "image/png": "[encoded data removed]",
      "text/plain": [
       "<Figure size 576x504 with 1 Axes>"
      ]
     },
     "metadata": {
      "needs_background": "light"
     },
     "output_type": "display_data"
    }
   ],
   "source": [
    "plt.figure(figsize=(8,7))\n",
    "plt.scatter(x=y_test_b, y= kn_pred, color='r')\n",
    "plt.plot(y_test_b,y_test_b, color='b')\n",
    "plt.xlabel('Actual Age', fontsize= 14 )\n",
    "plt.ylabel('predicted Age', fontsize= 18)\n",
    "plt.show()"
   ]
  },
  {
   "cell_type": "markdown",
   "metadata": {},
   "source": [
    "Here KNeighborsRegressor given good accuracy and R2_score, we can consider this, but lets check model using Ensemble Method."
   ]
  },
  {
   "cell_type": "markdown",
   "metadata": {},
   "source": [
    "# Ensemble Techniques"
   ]
  },
  {
   "cell_type": "code",
   "execution_count": 58,
   "metadata": {},
   "outputs": [
    {
     "name": "stdout",
     "output_type": "stream",
     "text": [
      "{'criterion': 'mae', 'max_features': 'auto'}\n"
     ]
    }
   ],
   "source": [
    "parameters={'criterion':['mse', 'mae'],'max_features':['auto', 'sqrt', 'log2']}\n",
    "rf=RandomForestRegressor()\n",
    "rfclf=GridSearchCV(rf, parameters)\n",
    "rfclf.fit(x_train_b, y_train_b)\n",
    "print(rfclf.best_params_)"
   ]
  },
  {
   "cell_type": "code",
   "execution_count": 59,
   "metadata": {},
   "outputs": [
    {
     "name": "stdout",
     "output_type": "stream",
     "text": [
      "R2 score: 98.39287277362546\n",
      "Cross val Score : 97.68864395086581\n"
     ]
    }
   ],
   "source": [
    "rf=RandomForestRegressor(criterion='mae', max_features='auto')\n",
    "rf.fit(x_train_b, y_train_b)\n",
    "rf.score(x_train_b,y_train_b)\n",
    "rf_pred=rf.predict(x_test_b)\n",
    "\n",
    "rf_score= r2_score(y_test_b, rf_pred)\n",
    "print('R2 score:', rf_score*100)\n",
    "\n",
    "rfcv=cross_val_score(rf,X,y, cv=4)\n",
    "rfcvscore=rfcv.mean()\n",
    "print('Cross val Score :',rfcvscore*100 )"
   ]
  },
  {
   "cell_type": "code",
   "execution_count": 60,
   "metadata": {},
   "outputs": [
    {
     "name": "stdout",
     "output_type": "stream",
     "text": [
      "Error:\n",
      "Mean Absolute Error: 0.5985124999999987\n",
      "Mean Squared Error: 0.50794019375\n",
      "Root Mean Square Error: 0.7126992309172222\n"
     ]
    }
   ],
   "source": [
    "print('Error:')\n",
    "\n",
    "print('Mean Absolute Error:',mean_absolute_error(y_test_b,rf_pred))\n",
    "print('Mean Squared Error:', mean_squared_error(y_test_b,rf_pred))\n",
    "print('Root Mean Square Error:', np.sqrt(mean_squared_error(y_test_b,rf_pred)))"
   ]
  },
  {
   "cell_type": "code",
   "execution_count": 61,
   "metadata": {},
   "outputs": [
    {
     "data": {
      "image/png": "[encoded data removed]",
      "text/plain": [
       "<Figure size 576x504 with 1 Axes>"
      ]
     },
     "metadata": {
      "needs_background": "light"
     },
     "output_type": "display_data"
    }
   ],
   "source": [
    "plt.figure(figsize=(8,7))\n",
    "plt.scatter(x=y_test_b, y= rf_pred, color='r')\n",
    "plt.plot(y_test_b,y_test_b, color='b')\n",
    "plt.xlabel('Actual Age', fontsize= 14 )\n",
    "plt.ylabel('predicted Age', fontsize= 18)\n",
    "plt.show()"
   ]
  },
  {
   "cell_type": "markdown",
   "metadata": {},
   "source": [
    "We are getting best results using RandomForestRegressor, We can select this model as final best fit model.\n",
    "\n",
    "R2 score: 98.29746056656323\n",
    "\n",
    "Cross val Score : 97.709586198418"
   ]
  },
  {
   "cell_type": "code",
   "execution_count": 62,
   "metadata": {},
   "outputs": [],
   "source": [
    "import pickle\n",
    "filename='Advertising_Sales_Channel_Prediction.pkl'\n",
    "pickle.dump(rf,open(filename,'wb'))"
   ]
  },
  {
   "cell_type": "code",
   "execution_count": 63,
   "metadata": {},
   "outputs": [
    {
     "data": {
      "text/html": [
       "<div>\n",
       "<style scoped>\n",
       "    .dataframe tbody tr th:only-of-type {\n",
       "        vertical-align: middle;\n",
       "    }\n",
       "\n",
       "    .dataframe tbody tr th {\n",
       "        vertical-align: top;\n",
       "    }\n",
       "\n",
       "    .dataframe thead th {\n",
       "        text-align: right;\n",
       "    }\n",
       "</style>\n",
       "<table border=\"1\" class=\"dataframe\">\n",
       "  <thead>\n",
       "    <tr style=\"text-align: right;\">\n",
       "      <th></th>\n",
       "      <th>original</th>\n",
       "      <th>predicted</th>\n",
       "    </tr>\n",
       "  </thead>\n",
       "  <tbody>\n",
       "    <tr>\n",
       "      <th>0</th>\n",
       "      <td>11.8</td>\n",
       "      <td>12.0940</td>\n",
       "    </tr>\n",
       "    <tr>\n",
       "      <th>1</th>\n",
       "      <td>15.9</td>\n",
       "      <td>16.3950</td>\n",
       "    </tr>\n",
       "    <tr>\n",
       "      <th>2</th>\n",
       "      <td>20.8</td>\n",
       "      <td>20.5310</td>\n",
       "    </tr>\n",
       "    <tr>\n",
       "      <th>3</th>\n",
       "      <td>12.7</td>\n",
       "      <td>11.9680</td>\n",
       "    </tr>\n",
       "    <tr>\n",
       "      <th>4</th>\n",
       "      <td>6.6</td>\n",
       "      <td>6.0170</td>\n",
       "    </tr>\n",
       "    <tr>\n",
       "      <th>5</th>\n",
       "      <td>10.8</td>\n",
       "      <td>10.2270</td>\n",
       "    </tr>\n",
       "    <tr>\n",
       "      <th>6</th>\n",
       "      <td>13.2</td>\n",
       "      <td>12.4500</td>\n",
       "    </tr>\n",
       "    <tr>\n",
       "      <th>7</th>\n",
       "      <td>15.5</td>\n",
       "      <td>14.9820</td>\n",
       "    </tr>\n",
       "    <tr>\n",
       "      <th>8</th>\n",
       "      <td>15.9</td>\n",
       "      <td>14.9240</td>\n",
       "    </tr>\n",
       "    <tr>\n",
       "      <th>9</th>\n",
       "      <td>20.2</td>\n",
       "      <td>20.1940</td>\n",
       "    </tr>\n",
       "    <tr>\n",
       "      <th>10</th>\n",
       "      <td>26.2</td>\n",
       "      <td>24.9360</td>\n",
       "    </tr>\n",
       "    <tr>\n",
       "      <th>11</th>\n",
       "      <td>12.2</td>\n",
       "      <td>12.0630</td>\n",
       "    </tr>\n",
       "    <tr>\n",
       "      <th>12</th>\n",
       "      <td>10.6</td>\n",
       "      <td>10.2650</td>\n",
       "    </tr>\n",
       "    <tr>\n",
       "      <th>13</th>\n",
       "      <td>8.4</td>\n",
       "      <td>9.1700</td>\n",
       "    </tr>\n",
       "    <tr>\n",
       "      <th>14</th>\n",
       "      <td>16.1</td>\n",
       "      <td>14.9210</td>\n",
       "    </tr>\n",
       "    <tr>\n",
       "      <th>15</th>\n",
       "      <td>3.2</td>\n",
       "      <td>5.0830</td>\n",
       "    </tr>\n",
       "    <tr>\n",
       "      <th>16</th>\n",
       "      <td>7.0</td>\n",
       "      <td>7.3880</td>\n",
       "    </tr>\n",
       "    <tr>\n",
       "      <th>17</th>\n",
       "      <td>23.8</td>\n",
       "      <td>22.5395</td>\n",
       "    </tr>\n",
       "    <tr>\n",
       "      <th>18</th>\n",
       "      <td>11.6</td>\n",
       "      <td>11.4210</td>\n",
       "    </tr>\n",
       "    <tr>\n",
       "      <th>19</th>\n",
       "      <td>15.9</td>\n",
       "      <td>15.0900</td>\n",
       "    </tr>\n",
       "    <tr>\n",
       "      <th>20</th>\n",
       "      <td>14.7</td>\n",
       "      <td>14.5930</td>\n",
       "    </tr>\n",
       "    <tr>\n",
       "      <th>21</th>\n",
       "      <td>22.4</td>\n",
       "      <td>21.7840</td>\n",
       "    </tr>\n",
       "    <tr>\n",
       "      <th>22</th>\n",
       "      <td>25.4</td>\n",
       "      <td>24.1285</td>\n",
       "    </tr>\n",
       "    <tr>\n",
       "      <th>23</th>\n",
       "      <td>12.0</td>\n",
       "      <td>12.3210</td>\n",
       "    </tr>\n",
       "    <tr>\n",
       "      <th>24</th>\n",
       "      <td>11.4</td>\n",
       "      <td>11.0570</td>\n",
       "    </tr>\n",
       "    <tr>\n",
       "      <th>25</th>\n",
       "      <td>9.6</td>\n",
       "      <td>10.2340</td>\n",
       "    </tr>\n",
       "    <tr>\n",
       "      <th>26</th>\n",
       "      <td>12.2</td>\n",
       "      <td>13.0970</td>\n",
       "    </tr>\n",
       "    <tr>\n",
       "      <th>27</th>\n",
       "      <td>20.7</td>\n",
       "      <td>20.9620</td>\n",
       "    </tr>\n",
       "    <tr>\n",
       "      <th>28</th>\n",
       "      <td>18.9</td>\n",
       "      <td>19.6370</td>\n",
       "    </tr>\n",
       "    <tr>\n",
       "      <th>29</th>\n",
       "      <td>6.9</td>\n",
       "      <td>7.5040</td>\n",
       "    </tr>\n",
       "    <tr>\n",
       "      <th>30</th>\n",
       "      <td>12.6</td>\n",
       "      <td>13.2800</td>\n",
       "    </tr>\n",
       "    <tr>\n",
       "      <th>31</th>\n",
       "      <td>12.9</td>\n",
       "      <td>13.4760</td>\n",
       "    </tr>\n",
       "    <tr>\n",
       "      <th>32</th>\n",
       "      <td>9.3</td>\n",
       "      <td>10.1390</td>\n",
       "    </tr>\n",
       "    <tr>\n",
       "      <th>33</th>\n",
       "      <td>10.8</td>\n",
       "      <td>10.4500</td>\n",
       "    </tr>\n",
       "    <tr>\n",
       "      <th>34</th>\n",
       "      <td>12.8</td>\n",
       "      <td>13.0540</td>\n",
       "    </tr>\n",
       "    <tr>\n",
       "      <th>35</th>\n",
       "      <td>8.0</td>\n",
       "      <td>8.1960</td>\n",
       "    </tr>\n",
       "    <tr>\n",
       "      <th>36</th>\n",
       "      <td>25.5</td>\n",
       "      <td>24.6650</td>\n",
       "    </tr>\n",
       "    <tr>\n",
       "      <th>37</th>\n",
       "      <td>12.8</td>\n",
       "      <td>12.4050</td>\n",
       "    </tr>\n",
       "    <tr>\n",
       "      <th>38</th>\n",
       "      <td>22.3</td>\n",
       "      <td>22.1625</td>\n",
       "    </tr>\n",
       "    <tr>\n",
       "      <th>39</th>\n",
       "      <td>12.6</td>\n",
       "      <td>13.0840</td>\n",
       "    </tr>\n",
       "  </tbody>\n",
       "</table>\n",
       "</div>"
      ],
      "text/plain": [
       "    original  predicted\n",
       "0       11.8    12.0940\n",
       "1       15.9    16.3950\n",
       "2       20.8    20.5310\n",
       "3       12.7    11.9680\n",
       "4        6.6     6.0170\n",
       "5       10.8    10.2270\n",
       "6       13.2    12.4500\n",
       "7       15.5    14.9820\n",
       "8       15.9    14.9240\n",
       "9       20.2    20.1940\n",
       "10      26.2    24.9360\n",
       "11      12.2    12.0630\n",
       "12      10.6    10.2650\n",
       "13       8.4     9.1700\n",
       "14      16.1    14.9210\n",
       "15       3.2     5.0830\n",
       "16       7.0     7.3880\n",
       "17      23.8    22.5395\n",
       "18      11.6    11.4210\n",
       "19      15.9    15.0900\n",
       "20      14.7    14.5930\n",
       "21      22.4    21.7840\n",
       "22      25.4    24.1285\n",
       "23      12.0    12.3210\n",
       "24      11.4    11.0570\n",
       "25       9.6    10.2340\n",
       "26      12.2    13.0970\n",
       "27      20.7    20.9620\n",
       "28      18.9    19.6370\n",
       "29       6.9     7.5040\n",
       "30      12.6    13.2800\n",
       "31      12.9    13.4760\n",
       "32       9.3    10.1390\n",
       "33      10.8    10.4500\n",
       "34      12.8    13.0540\n",
       "35       8.0     8.1960\n",
       "36      25.5    24.6650\n",
       "37      12.8    12.4050\n",
       "38      22.3    22.1625\n",
       "39      12.6    13.0840"
      ]
     },
     "execution_count": 63,
     "metadata": {},
     "output_type": "execute_result"
    }
   ],
   "source": [
    "import numpy as np\n",
    "a=np.array(y_test_b)\n",
    "predicted= np.array(rf.predict(x_test_b))\n",
    "df_com= pd.DataFrame({'original':a, 'predicted':predicted}, index= range(len(a)))\n",
    "df_com"
   ]
  }
 ],
 "metadata": {
  "kernelspec": {
   "display_name": "Python 3",
   "language": "python",
   "name": "python3"
  },
  "language_info": {
   "codemirror_mode": {
    "name": "ipython",
    "version": 3
   },
   "file_extension": ".py",
   "mimetype": "text/x-python",
   "name": "python",
   "nbconvert_exporter": "python",
   "pygments_lexer": "ipython3",
   "version": "3.8.5"
  }
 },
 "nbformat": 4,
 "nbformat_minor": 5
}
